{
  "nbformat": 4,
  "nbformat_minor": 0,
  "metadata": {
    "colab": {
      "name": "VanillaGAN.ipynb",
      "private_outputs": true,
      "provenance": [],
      "collapsed_sections": [],
      "mount_file_id": "1YlaAXhDK7TooMMPblY6yGrWH_E5A5vB_",
      "authorship_tag": "ABX9TyPoF1k6THLRl2lJWnkrPvS3",
      "include_colab_link": true
    },
    "kernelspec": {
      "name": "python3",
      "display_name": "Python 3"
    },
    "language_info": {
      "name": "python"
    },
    "accelerator": "GPU"
  },
  "cells": [
    {
      "cell_type": "markdown",
      "metadata": {
        "id": "view-in-github",
        "colab_type": "text"
      },
      "source": [
        "<a href=\"https://colab.research.google.com/github/An0816/PyTorchZeroToAll/blob/main/VanillaGAN.ipynb\" target=\"_parent\"><img src=\"https://colab.research.google.com/assets/colab-badge.svg\" alt=\"Open In Colab\"/></a>"
      ]
    },
    {
      "cell_type": "markdown",
      "metadata": {
        "id": "BgZD3yv-crk4"
      },
      "source": [
        "#### Overall Flow\n",
        "\n",
        "1. 필요한 도구 선언  \n",
        "2. train, test data load\n",
        "3. model construction (Generator, Discriminator)\n",
        "4. loss, optimizer 설정\n",
        "5. train(forward, backward, update)"
      ]
    },
    {
      "cell_type": "code",
      "metadata": {
        "id": "Uq_AFJqyaXP6"
      },
      "source": [
        "import torch\n",
        "import torch.nn as nn\n",
        "import torch.optim as optim\n",
        "from torch.autograd.variable import Variable \n",
        "\n",
        "import torchvision\n",
        "from torchvision import transforms, datasets\n",
        "from torchvision.utils import make_grid, save_image\n",
        "from torch.utils.data import DataLoader"
      ],
      "execution_count": null,
      "outputs": []
    },
    {
      "cell_type": "code",
      "metadata": {
        "id": "WoVgp-YiauLC"
      },
      "source": [
        "train_data = datasets.MNIST(root = \"MNIST/\", train = True, download = True,\n",
        "                            transform = transforms.Compose([\n",
        "                                transforms.ToTensor(),\n",
        "                                transforms.Normalize((0.1307,),(0.3081,))                                                             \n",
        "                            ]))\n",
        "train_loader = DataLoader(dataset = train_data, batch_size = 64, shuffle = True, num_workers = 2, drop_last = True)\n",
        "\n",
        "test_data = datasets.MNIST(root = \"MNIST/\", train = False, download = False, \n",
        "                           transform = transforms.Compose([\n",
        "                            transforms.ToTensor(),\n",
        "                            transforms.Normalize((0.1307,), (0.3081,))\n",
        "                           ]))\n",
        "\n",
        "test_loader = DataLoader(dataset = test_data, batch_size = 64, shuffle = True, drop_last = True)\n"
      ],
      "execution_count": null,
      "outputs": []
    },
    {
      "cell_type": "code",
      "metadata": {
        "id": "1lykp9JJb2g4"
      },
      "source": [
        "class Generator(nn.Module):\n",
        "    def __init__(self):\n",
        "\n",
        "        super(Generator, self).__init__()\n",
        "\n",
        "        self.model = nn.Sequential(\n",
        "            nn.Linear(100, 256),\n",
        "            nn.ReLU(),\n",
        "            nn.Linear(256, 512),\n",
        "            nn.ReLU(),\n",
        "            nn.Linear(512, 1024),\n",
        "            nn.ReLU(),\n",
        "            nn.Linear(1024, 784),\n",
        "            nn.Tanh()\n",
        "        )\n",
        "\n",
        "    def forward(self, x):\n",
        "        x = self.model(x)\n",
        "        return x\n",
        "\n",
        "class Discriminator(nn.Module):\n",
        "    def __init__(self):\n",
        "\n",
        "        super(Discriminator, self).__init__()\n",
        "\n",
        "        self.model = nn.Sequential(\n",
        "            nn.Linear(784, 1024),\n",
        "            nn.ReLU(),\n",
        "            nn.Dropout(p = 0.5),\n",
        "            nn.Linear(1024, 512),\n",
        "            nn.ReLU(),\n",
        "            nn.Dropout(p = 0.5),\n",
        "            nn.Linear(512, 256),\n",
        "            nn.ReLU(),\n",
        "            nn.Dropout(p = 0.5),\n",
        "            nn.Linear(256, 1),\n",
        "            nn.Sigmoid()    \n",
        "        )\n",
        "    \n",
        "    def forward(self, x):\n",
        "        x = self.model(x)\n",
        "        return x\n"
      ],
      "execution_count": null,
      "outputs": []
    },
    {
      "cell_type": "code",
      "metadata": {
        "id": "F7XIZKVOdz1p"
      },
      "source": [
        "device = 'cuda' if torch.cuda.is_available() else 'cpu'\n",
        "G = Generator().to(device)\n",
        "D = Discriminator().to(device)\n",
        "\n",
        "criterion = nn.BCELoss()\n",
        "optim_G = optim.Adam(G.parameters(), lr = 1e-6)\n",
        "optim_D = optim.Adam(D.parameters(), lr = 1e-6)"
      ],
      "execution_count": null,
      "outputs": []
    },
    {
      "cell_type": "code",
      "metadata": {
        "id": "I4643guEfgtW"
      },
      "source": [
        "for epoch in range(100):\n",
        "    avg_loss = [0, 0]\n",
        "    for x, target in train_loader:\n",
        "        real = real.to(device) \n",
        "        real = torch.ones(x.shape[0], 1).to(device) \n",
        "        fake = torch.zeros(x.shape[0], 1).to(device)\n",
        "\n",
        "        x = x.view(x.size(0), -1).to(device)\n",
        "\n",
        "        noise = torch.randn(x.shape[0], 100, device = device)\n",
        "        fake_img = G(noise) # MNIST 학습할 때의 y_pred느낌\n",
        "\n",
        "        #training generator\n",
        "        optim_G.zero_grad()\n",
        "        loss_G = criterion(D(fake_img), real)\n",
        "        loss_G.backward()\n",
        "        optim_G.step()\n",
        "\n",
        "        fake_img = fake_img.detach().to(device)\n",
        "\n",
        "        #training discriminator\n",
        "        optim_D.zero_grad()\n",
        "        loss_D = criterion(D(torch.cat((x, fake_img))), torch.cat((real, fake)))\n",
        "        loss_D.backward()\n",
        "        optim_D.step()\n",
        "\n",
        "        avg_loss[0] += loss_G\n",
        "        avg_loss[1] += loss_D\n",
        "    avg_loss[0] = avg_loss[0] / 64\n",
        "    avg_loss[1] = avg_loss[1] / 64\n",
        "\n",
        "    if epoch % 10 == 0:\n",
        "        fake_img = fake_img.reshape([64, 1, 28, 28])\n",
        "        img_grid = make_grid(fake_img, nrow = 10, normalize = True)\n",
        "        save_image(img_grid, f\"/content/drive/MyDrive/Deep Learning/result/%d.png\"%(epoch))\n",
        "        print(f\"Epoch : {epoch}, Generator : {avg_loss[0]}, Discriminator : {avg_loss[1]}\")"
      ],
      "execution_count": null,
      "outputs": []
    },
    {
      "cell_type": "code",
      "metadata": {
        "id": "49_R7C0sgWML"
      },
      "source": [
        ""
      ],
      "execution_count": null,
      "outputs": []
    }
  ]
}