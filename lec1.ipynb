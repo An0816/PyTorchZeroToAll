{
  "nbformat": 4,
  "nbformat_minor": 0,
  "metadata": {
    "colab": {
      "name": "lec1.ipynb",
      "provenance": [],
      "collapsed_sections": [],
      "authorship_tag": "ABX9TyNPzW/S1AgoPiRNxt25mf17",
      "include_colab_link": true
    },
    "kernelspec": {
      "name": "python3",
      "display_name": "Python 3"
    },
    "language_info": {
      "name": "python"
    },
    "accelerator": "GPU"
  },
  "cells": [
    {
      "cell_type": "markdown",
      "metadata": {
        "id": "view-in-github",
        "colab_type": "text"
      },
      "source": [
        "<a href=\"https://colab.research.google.com/github/An0816/PyTorchZeroToAll/blob/main/lec1.ipynb\" target=\"_parent\"><img src=\"https://colab.research.google.com/assets/colab-badge.svg\" alt=\"Open In Colab\"/></a>"
      ]
    },
    {
      "cell_type": "markdown",
      "metadata": {
        "id": "O5eQyKb8HCfq"
      },
      "source": [
        "What is Human Intelligence  \n",
        "-> used for decision making  "
      ]
    },
    {
      "cell_type": "markdown",
      "metadata": {
        "id": "Po8Yd9eXHITo"
      },
      "source": [
        "What is Machine Learning?  \n",
        "-> 주어진 information을 바탕으로 \"infer\" or \"predict\"하는 것  \n",
        "-> dataset을 바탕으로 train을 진행 -> predict test dataset  \n",
        "(training dataset, test dataset)  \n",
        "-> we need to provide great features"
      ]
    },
    {
      "cell_type": "markdown",
      "metadata": {
        "id": "tK3ZKf2TGmMv"
      },
      "source": [
        "Deep Learning  \n",
        "-> we don't have to select good features  \n",
        "   : 직접 판단할 수 있음 "
      ]
    },
    {
      "cell_type": "markdown",
      "metadata": {
        "id": "UtS9aaMtGmRG"
      },
      "source": [
        "PyTorch  \n",
        ": more pythonic (intuitive and flexible)  \n",
        ": more neural networkic (write code as the network works)\n"
      ]
    },
    {
      "cell_type": "markdown",
      "metadata": {
        "id": "3QAUVThWJF-i"
      },
      "source": [
        ""
      ]
    },
    {
      "cell_type": "code",
      "metadata": {
        "id": "-66ywFOgGZcS"
      },
      "source": [
        "import torch"
      ],
      "execution_count": null,
      "outputs": []
    },
    {
      "cell_type": "code",
      "metadata": {
        "colab": {
          "base_uri": "https://localhost:8080/"
        },
        "id": "4kMnAtKBGZq4",
        "outputId": "75e88223-cac4-435c-8617-50a7b8061e4b"
      },
      "source": [
        "print(torch.__version__)"
      ],
      "execution_count": null,
      "outputs": [
        {
          "output_type": "stream",
          "text": [
            "1.8.1+cu101\n"
          ],
          "name": "stdout"
        }
      ]
    },
    {
      "cell_type": "code",
      "metadata": {
        "id": "Z5RybwUAKydv"
      },
      "source": [
        ""
      ],
      "execution_count": null,
      "outputs": []
    }
  ]
}